{
 "cells": [
  {
   "cell_type": "code",
   "execution_count": 1,
   "metadata": {},
   "outputs": [
    {
     "name": "stdout",
     "output_type": "stream",
     "text": [
      "                                              ..-\n",
      "    PyKat 1.2.1           _                  '(\n",
      "                          \\`.|\\.__...-\"\"\"\"-_.\" )\n",
      "       ..+-----.._        /  ' `            .-'\n",
      "   . '            `:      7/* _/._\\    \\   (\n",
      "  (        '::;;+;;:      `-\"' =\" /,`\"\" `) /\n",
      "  L.        \\`:::a:f            c_/     n_'\n",
      "  ..`--...___`.  .    ,\n",
      "   `^-....____:   +.      www.gwoptics.org/pykat\n",
      "\n"
     ]
    }
   ],
   "source": [
    "import numpy as np\n",
    "import pandas as pd\n",
    "import matplotlib         \n",
    "import matplotlib.pyplot as plt       \n",
    "import pykat.optics.maps as pkm\n",
    "from pykat import finesse                 \n",
    "from pykat.commands import *               \n",
    "from pykat.optics.maps import *            \n",
    "from IPython.display import display, HTML\n",
    "from scipy.special import factorial\n",
    "import fileinput\n",
    "\n",
    "%matplotlib inline\n",
    "pykat.init_pykat_plotting(dpi=90)"
   ]
  },
  {
   "cell_type": "code",
   "execution_count": 2,
   "metadata": {},
   "outputs": [],
   "source": [
    "# return a list of zernike maps(basis) for aLIGO maps to project to\n",
    "def Zernikes(shape, radius, step_size, max_zern):# size leads to the cropping radius \n",
    "    center = round(shape-1)/2\n",
    "    rrange = round(radius/step_size)\n",
    "    zernikes=[]\n",
    "    def theta(x,y):\n",
    "        return np.where(x == 0, np.where(y>=0,np.pi/2,-np.pi/2), np.where(x>0,np.arctan(y/x),np.arctan(y/x)+np.pi))\n",
    "\n",
    "    def radial(x,y,n,m):\n",
    "        if m<0:\n",
    "            m=-m\n",
    "        sum=0\n",
    "        for k in range(int((n-m)/2)+1):   \n",
    "            r=(-1)**k*factorial(n-k)/factorial(k)/factorial((n+m)/2-k)/factorial((n-m)/2-k)*((x**2+y**2)/(385**2))**(n/2-k)\n",
    "            sum+=r\n",
    "        return sum\n",
    "\n",
    "    def angular(x,y,n,m): \n",
    "        a=theta(x,y)\n",
    "        if m>=0:\n",
    "            angular=np.cos(m*a)\n",
    "        else:\n",
    "            angular=-np.sin(m*a)\n",
    "        return angular\n",
    "    \n",
    "    for n in range(max_zern):\n",
    "        for m in range(-n,n+1,2):\n",
    "            stepRange = np.arange(shape)-center\n",
    "            x,y=np.meshgrid(stepRange,stepRange,sparse=True)\n",
    "            zfunc=radial(x,y,n,m)*angular(x,y,n,m)\n",
    "            for i in range(shape):\n",
    "                for j in range(shape): \n",
    "                    if (i-center)**2+(j-center)**2>= rrange**2:\n",
    "                        zfunc[i][j]=0\n",
    "            zmap=zfunc/zfunc.max()\n",
    "            zernikes.append(zmap)\n",
    "    return zernikes"
   ]
  },
  {
   "cell_type": "code",
   "execution_count": 4,
   "metadata": {},
   "outputs": [],
   "source": [
    "def layerCoeffs(filename, zernikebasis, order=10):\n",
    "    i=0# create a conversion between {n}{m} to {i}\n",
    "    dic={}\n",
    "    for n in range(order):\n",
    "        for m in range(-n,n+1,2):\n",
    "            dic[f'{n}{m}']=i\n",
    "            i=i+1\n",
    "\n",
    "    aLIGO=pd.read_csv(filename, header=None, sep=\" \", skiprows=9).dropna(axis=1).values\n",
    "    \n",
    "    overlap=[]\n",
    "    zernikes=[]\n",
    "    layerCoeff=[]\n",
    "    amap=0\n",
    "    for n in range(order):\n",
    "        layer=0\n",
    "        for m in range(-n,n+1,2):\n",
    "            index=dic[f'{n}{m}']\n",
    "            coeff=(aLIGO*zernikebasis[index]).sum()/((zernikebasis[index]**2).sum())\n",
    " #           print(f\"A{n}{m} is {coeff}\")\n",
    "            amap+=zernikebasis[index]*coeff\n",
    "            overlap.append(coeff)\n",
    "            if n>=3:\n",
    "                layer+=coeff**2\n",
    "            elif n==2:\n",
    "                if m==-2 or m==2:\n",
    "                    layer+=coeff**2\n",
    "            else:\n",
    "                layer=0         \n",
    "        layerCoeff.append(np.sqrt(layer))\n",
    "    return np.array(layerCoeff)"
   ]
  },
  {
   "cell_type": "code",
   "execution_count": 6,
   "metadata": {},
   "outputs": [
    {
     "name": "stderr",
     "output_type": "stream",
     "text": [
      "/opt/anaconda3/lib/python3.7/site-packages/ipykernel_launcher.py:7: RuntimeWarning: divide by zero encountered in true_divide\n",
      "  import sys\n",
      "/opt/anaconda3/lib/python3.7/site-packages/ipykernel_launcher.py:7: RuntimeWarning: invalid value encountered in true_divide\n",
      "  import sys\n"
     ]
    },
    {
     "name": "stdout",
     "output_type": "stream",
     "text": [
      "A00 is -11.888554902659674\n",
      "A1-1 is 0.7602347312977585\n",
      "A11 is 0.19086576746444306\n",
      "A2-2 is 0.7000131634612041\n",
      "A20 is -22.89882222802464\n",
      "A22 is 1.0727560429532612\n",
      "A3-3 is 0.7755178477453356\n",
      "A3-1 is 0.32748919121671605\n",
      "A31 is -0.08446471321633488\n",
      "A33 is -0.7501310678036963\n",
      "A4-4 is 0.03147061522247439\n",
      "A4-2 is 0.40881240825423343\n",
      "A40 is -13.314920336760043\n",
      "A42 is 0.06749896450608868\n",
      "A44 is -0.6136663598018668\n",
      "A5-5 is 0.3778127240485924\n",
      "A5-3 is 0.09514262946627805\n",
      "A5-1 is -0.3341574428439815\n",
      "A51 is -0.5765120599411635\n",
      "A53 is 0.14292781718358818\n",
      "A55 is 0.017134698566240805\n",
      "A6-6 is -0.03710079586443687\n",
      "A6-4 is -0.03559632969369133\n",
      "A6-2 is 0.4790542339074026\n",
      "A60 is -2.2594791368547376\n",
      "A62 is -0.26260613360113194\n",
      "A64 is 0.013238824634700863\n",
      "A66 is -0.1831008765570378\n",
      "A7-7 is -0.8251240710586916\n",
      "A7-5 is 0.1761008895467249\n",
      "A7-3 is -0.09856739311575169\n",
      "A7-1 is -0.49279507282018137\n",
      "A71 is -0.8159788167173727\n",
      "A73 is 0.09092744631049146\n",
      "A75 is -0.015778360156376056\n",
      "A77 is -0.34172698001509144\n",
      "A8-8 is 0.501893291270387\n",
      "A8-6 is -0.04574239398379163\n",
      "A8-4 is -0.03932198667218694\n",
      "A8-2 is 0.151489679413139\n",
      "A80 is -0.385330592817264\n",
      "A82 is 0.05382840707013715\n",
      "A84 is 0.08532001362607554\n",
      "A86 is 0.1593616271510997\n",
      "A88 is -0.7622441774390878\n",
      "A9-9 is -0.00699932705355134\n",
      "A9-7 is -0.22821833658827925\n",
      "A9-5 is 0.15701133098729034\n",
      "A9-3 is -0.1702290583611436\n",
      "A9-1 is -0.7857835759543126\n",
      "A91 is -0.7690179922666895\n",
      "A93 is -0.05163655038060155\n",
      "A95 is -0.022758228816759627\n",
      "A97 is -0.1292264300419189\n",
      "A99 is 0.11957803969683008\n"
     ]
    }
   ],
   "source": [
    "layerCoeffs('aLIGOmeasuredmaps/ETM08_S1_-power160_finesse.txt',Zernikes(777,0.154,0.0004000000189989805,10))"
   ]
  },
  {
   "cell_type": "code",
   "execution_count": 6,
   "metadata": {},
   "outputs": [
    {
     "name": "stderr",
     "output_type": "stream",
     "text": [
      "/opt/anaconda3/lib/python3.7/site-packages/ipykernel_launcher.py:7: RuntimeWarning: divide by zero encountered in true_divide\n",
      "  import sys\n",
      "/opt/anaconda3/lib/python3.7/site-packages/ipykernel_launcher.py:7: RuntimeWarning: invalid value encountered in true_divide\n",
      "  import sys\n"
     ]
    },
    {
     "data": {
      "text/plain": [
       "array([0.        , 0.        , 0.44287268, 0.29085334, 0.27624584,\n",
       "       0.14614646, 0.09594378, 0.20533683, 0.26391068, 0.08582543])"
      ]
     },
     "execution_count": 6,
     "metadata": {},
     "output_type": "execute_result"
    }
   ],
   "source": [
    "coeff01=layerCoeffs('aLIGO measured maps/xITM_09_R2_Figure_finesse.txt',Zernikes(1133,0.15,0.0004000000189989805,10))\n",
    "coeff01"
   ]
  },
  {
   "cell_type": "code",
   "execution_count": 12,
   "metadata": {},
   "outputs": [
    {
     "name": "stderr",
     "output_type": "stream",
     "text": [
      "/opt/anaconda3/lib/python3.7/site-packages/ipykernel_launcher.py:7: RuntimeWarning: divide by zero encountered in true_divide\n",
      "  import sys\n",
      "/opt/anaconda3/lib/python3.7/site-packages/ipykernel_launcher.py:7: RuntimeWarning: invalid value encountered in true_divide\n",
      "  import sys\n"
     ]
    },
    {
     "data": {
      "text/plain": [
       "array([0.        , 0.        , 0.20186108, 0.37465685, 0.6104358 ,\n",
       "       0.44928513, 0.69326921, 0.49323309, 0.7545034 , 0.52067729])"
      ]
     },
     "execution_count": 12,
     "metadata": {},
     "output_type": "execute_result"
    }
   ],
   "source": [
    "coeff02=layerCoeffs('aLIGO measured maps/ETM05_S1_finesse.txt',Zernikes(1131,0.15,0.00026699510635808, 10))\n",
    "coeff02"
   ]
  },
  {
   "cell_type": "code",
   "execution_count": 13,
   "metadata": {},
   "outputs": [
    {
     "name": "stderr",
     "output_type": "stream",
     "text": [
      "/opt/anaconda3/lib/python3.7/site-packages/ipykernel_launcher.py:7: RuntimeWarning: divide by zero encountered in true_divide\n",
      "  import sys\n",
      "/opt/anaconda3/lib/python3.7/site-packages/ipykernel_launcher.py:7: RuntimeWarning: invalid value encountered in true_divide\n",
      "  import sys\n"
     ]
    },
    {
     "data": {
      "text/plain": [
       "array([ 0.        ,  0.        ,  1.28094651,  1.13071128, 13.33553014,\n",
       "        0.78520309,  2.33239055,  1.32496011,  1.0215447 ,  1.16137429])"
      ]
     },
     "execution_count": 13,
     "metadata": {},
     "output_type": "execute_result"
    }
   ],
   "source": [
    "coeff03=layerCoeffs('aLIGO measured maps/ETM08_S1_-power160_finesse.txt',Zernikes(777,0.154,0.0004000000189989805,10))\n",
    "coeff03"
   ]
  },
  {
   "cell_type": "code",
   "execution_count": 17,
   "metadata": {},
   "outputs": [
    {
     "name": "stderr",
     "output_type": "stream",
     "text": [
      "/opt/anaconda3/lib/python3.7/site-packages/ipykernel_launcher.py:7: RuntimeWarning: divide by zero encountered in true_divide\n",
      "  import sys\n",
      "/opt/anaconda3/lib/python3.7/site-packages/ipykernel_launcher.py:7: RuntimeWarning: invalid value encountered in true_divide\n",
      "  import sys\n"
     ]
    },
    {
     "data": {
      "text/plain": [
       "array([0.        , 0.        , 0.71844138, 1.29780436, 2.210698  ,\n",
       "       1.46256743, 2.49307016, 1.56083758, 2.67519769, 1.62018873])"
      ]
     },
     "execution_count": 17,
     "metadata": {},
     "output_type": "execute_result"
    }
   ],
   "source": [
    "coeff04=layerCoeffs('aLIGO measured maps/itm08_s2_finesse.txt',Zernikes(1133,0.15,0.0002668091910891235,10))\n",
    "coeff04"
   ]
  },
  {
   "cell_type": "code",
   "execution_count": 18,
   "metadata": {},
   "outputs": [
    {
     "name": "stderr",
     "output_type": "stream",
     "text": [
      "/opt/anaconda3/lib/python3.7/site-packages/ipykernel_launcher.py:7: RuntimeWarning: divide by zero encountered in true_divide\n",
      "  import sys\n",
      "/opt/anaconda3/lib/python3.7/site-packages/ipykernel_launcher.py:7: RuntimeWarning: invalid value encountered in true_divide\n",
      "  import sys\n"
     ]
    },
    {
     "data": {
      "text/plain": [
       "array([0.        , 0.        , 0.15035322, 1.24354955, 0.3672203 ,\n",
       "       1.46105566, 0.45210691, 1.6028785 , 0.52205935, 1.70091066])"
      ]
     },
     "execution_count": 18,
     "metadata": {},
     "output_type": "execute_result"
    }
   ],
   "source": [
    "coeff05=layerCoeffs('aLIGO measured maps/xETM_07_R1_Figure_finesse.txt',Zernikes(1131,0.15,0.0002669949899427593,10))\n",
    "coeff05"
   ]
  },
  {
   "cell_type": "code",
   "execution_count": 19,
   "metadata": {},
   "outputs": [
    {
     "name": "stderr",
     "output_type": "stream",
     "text": [
      "/opt/anaconda3/lib/python3.7/site-packages/ipykernel_launcher.py:7: RuntimeWarning: divide by zero encountered in true_divide\n",
      "  import sys\n",
      "/opt/anaconda3/lib/python3.7/site-packages/ipykernel_launcher.py:7: RuntimeWarning: invalid value encountered in true_divide\n",
      "  import sys\n"
     ]
    },
    {
     "data": {
      "text/plain": [
       "array([0.        , 0.        , 4.8451721 , 2.18825039, 5.65517414,\n",
       "       2.65662153, 5.94070816, 2.94367889, 6.1293699 , 3.14660087])"
      ]
     },
     "execution_count": 19,
     "metadata": {},
     "output_type": "execute_result"
    }
   ],
   "source": [
    "coeff06=layerCoeffs('aLIGO measured maps/itm04_s2_finesse.txt',Zernikes(1133,0.15,0.00026675150729715824,10))\n",
    "coeff06"
   ]
  },
  {
   "cell_type": "code",
   "execution_count": 20,
   "metadata": {},
   "outputs": [
    {
     "name": "stderr",
     "output_type": "stream",
     "text": [
      "/opt/anaconda3/lib/python3.7/site-packages/ipykernel_launcher.py:7: RuntimeWarning: divide by zero encountered in true_divide\n",
      "  import sys\n",
      "/opt/anaconda3/lib/python3.7/site-packages/ipykernel_launcher.py:7: RuntimeWarning: invalid value encountered in true_divide\n",
      "  import sys\n"
     ]
    },
    {
     "data": {
      "text/plain": [
       "array([0.        , 0.        , 0.41626056, 1.19931404, 0.45847125,\n",
       "       1.45809959, 0.49255718, 1.61986629, 0.51873962, 1.73074644])"
      ]
     },
     "execution_count": 20,
     "metadata": {},
     "output_type": "execute_result"
    }
   ],
   "source": [
    "coeff07=layerCoeffs('aLIGO measured maps/xITM_07_R1_Figure_finesse.txt',Zernikes(1129,0.15,0.00026716801221482456,10))\n",
    "coeff07"
   ]
  },
  {
   "cell_type": "code",
   "execution_count": 21,
   "metadata": {},
   "outputs": [
    {
     "name": "stderr",
     "output_type": "stream",
     "text": [
      "/opt/anaconda3/lib/python3.7/site-packages/ipykernel_launcher.py:7: RuntimeWarning: divide by zero encountered in true_divide\n",
      "  import sys\n",
      "/opt/anaconda3/lib/python3.7/site-packages/ipykernel_launcher.py:7: RuntimeWarning: invalid value encountered in true_divide\n",
      "  import sys\n"
     ]
    },
    {
     "data": {
      "text/plain": [
       "array([0.        , 0.        , 5.45324274, 6.59631406, 7.09182587,\n",
       "       7.91408725, 7.84028778, 8.67276644, 8.2099705 , 9.09805661])"
      ]
     },
     "execution_count": 21,
     "metadata": {},
     "output_type": "execute_result"
    }
   ],
   "source": [
    "coeff08=layerCoeffs('aLIGO measured maps/xITM_07_R2_Figure_finesse.txt',Zernikes(1133,0.15,0.0002668089873623103,10))\n",
    "coeff08"
   ]
  },
  {
   "cell_type": "code",
   "execution_count": 22,
   "metadata": {},
   "outputs": [
    {
     "name": "stderr",
     "output_type": "stream",
     "text": [
      "/opt/anaconda3/lib/python3.7/site-packages/ipykernel_launcher.py:7: RuntimeWarning: divide by zero encountered in true_divide\n",
      "  import sys\n",
      "/opt/anaconda3/lib/python3.7/site-packages/ipykernel_launcher.py:7: RuntimeWarning: invalid value encountered in true_divide\n",
      "  import sys\n"
     ]
    },
    {
     "data": {
      "text/plain": [
       "array([ 0.        ,  0.        , 12.77427359, 28.51925341, 41.85681877,\n",
       "       36.87917958, 51.25676881, 41.14469415, 58.11421187, 43.8935028 ])"
      ]
     },
     "execution_count": 22,
     "metadata": {},
     "output_type": "execute_result"
    }
   ],
   "source": [
    "coeff09=layerCoeffs('aLIGO measured maps/xITM_07_SPTWE_Figure_finesse.txt',Zernikes(1133,0.15,0.0002668089873623103,10))\n",
    "coeff09"
   ]
  },
  {
   "cell_type": "code",
   "execution_count": 23,
   "metadata": {},
   "outputs": [
    {
     "name": "stderr",
     "output_type": "stream",
     "text": [
      "/opt/anaconda3/lib/python3.7/site-packages/ipykernel_launcher.py:7: RuntimeWarning: divide by zero encountered in true_divide\n",
      "  import sys\n",
      "/opt/anaconda3/lib/python3.7/site-packages/ipykernel_launcher.py:7: RuntimeWarning: invalid value encountered in true_divide\n",
      "  import sys\n"
     ]
    },
    {
     "data": {
      "text/plain": [
       "array([0.        , 0.        , 0.39514777, 1.15570595, 0.4940704 ,\n",
       "       1.31703502, 0.54923939, 1.4199425 , 0.60010472, 1.49449418])"
      ]
     },
     "execution_count": 23,
     "metadata": {},
     "output_type": "execute_result"
    }
   ],
   "source": [
    "coeff10=layerCoeffs('aLIGO measured maps/xITM_11_R1_Figure_finesse.txt',Zernikes(1133,0.15,0.0002667510125320405,10))\n",
    "coeff10"
   ]
  },
  {
   "cell_type": "code",
   "execution_count": 24,
   "metadata": {},
   "outputs": [
    {
     "name": "stderr",
     "output_type": "stream",
     "text": [
      "/opt/anaconda3/lib/python3.7/site-packages/ipykernel_launcher.py:7: RuntimeWarning: divide by zero encountered in true_divide\n",
      "  import sys\n",
      "/opt/anaconda3/lib/python3.7/site-packages/ipykernel_launcher.py:7: RuntimeWarning: invalid value encountered in true_divide\n",
      "  import sys\n"
     ]
    },
    {
     "data": {
      "text/plain": [
       "array([  0.        ,   0.        ,  30.4624681 ,  36.69004012,\n",
       "       398.86272698,  45.9948354 , 480.96218103,  50.95691893,\n",
       "       542.1680594 ,  54.11547618])"
      ]
     },
     "execution_count": 24,
     "metadata": {},
     "output_type": "execute_result"
    }
   ],
   "source": [
    "coeff11=layerCoeffs('aLIGO measured maps/xITM_11_SPTWE_Figure_finesse.txt',Zernikes(1133,0.15,0.0002668089873623103,10))\n",
    "coeff11"
   ]
  },
  {
   "cell_type": "code",
   "execution_count": 25,
   "metadata": {},
   "outputs": [
    {
     "name": "stderr",
     "output_type": "stream",
     "text": [
      "/opt/anaconda3/lib/python3.7/site-packages/ipykernel_launcher.py:7: RuntimeWarning: divide by zero encountered in true_divide\n",
      "  import sys\n",
      "/opt/anaconda3/lib/python3.7/site-packages/ipykernel_launcher.py:7: RuntimeWarning: invalid value encountered in true_divide\n",
      "  import sys\n"
     ]
    },
    {
     "data": {
      "text/plain": [
       "array([0.        , 0.        , 0.05451099, 1.34037573, 0.20983636,\n",
       "       1.61458082, 0.33692235, 1.78815292, 0.43619608, 1.90731806])"
      ]
     },
     "execution_count": 25,
     "metadata": {},
     "output_type": "execute_result"
    }
   ],
   "source": [
    "coeff12=layerCoeffs('aLIGO measured maps/xITM_03_R1_Figure_finesse.txt',Zernikes(1133,0.15,0.0002667510125320405,10))\n",
    "coeff12"
   ]
  },
  {
   "cell_type": "code",
   "execution_count": 26,
   "metadata": {},
   "outputs": [
    {
     "name": "stderr",
     "output_type": "stream",
     "text": [
      "/opt/anaconda3/lib/python3.7/site-packages/ipykernel_launcher.py:7: RuntimeWarning: divide by zero encountered in true_divide\n",
      "  import sys\n",
      "/opt/anaconda3/lib/python3.7/site-packages/ipykernel_launcher.py:7: RuntimeWarning: invalid value encountered in true_divide\n",
      "  import sys\n"
     ]
    },
    {
     "data": {
      "text/plain": [
       "array([0.        , 0.        , 1.32869277, 3.18272895, 5.86101388,\n",
       "       3.9358462 , 6.71906015, 4.39359299, 7.2844799 , 4.7070334 ])"
      ]
     },
     "execution_count": 26,
     "metadata": {},
     "output_type": "execute_result"
    }
   ],
   "source": [
    "coeff13=layerCoeffs('aLIGO measured maps/xITM_03_R2_Figure_finesse.txt',Zernikes(1133,0.15,0.0002668089873623103,10))\n",
    "coeff13"
   ]
  },
  {
   "cell_type": "code",
   "execution_count": 27,
   "metadata": {},
   "outputs": [
    {
     "name": "stderr",
     "output_type": "stream",
     "text": [
      "/opt/anaconda3/lib/python3.7/site-packages/ipykernel_launcher.py:7: RuntimeWarning: divide by zero encountered in true_divide\n",
      "  import sys\n",
      "/opt/anaconda3/lib/python3.7/site-packages/ipykernel_launcher.py:7: RuntimeWarning: invalid value encountered in true_divide\n",
      "  import sys\n"
     ]
    },
    {
     "data": {
      "text/plain": [
       "array([ 0.        ,  0.        ,  9.75019755,  7.31657684, 12.64987283,\n",
       "        8.37711906, 13.88123751,  8.93722022, 14.53867507,  9.23267667])"
      ]
     },
     "execution_count": 27,
     "metadata": {},
     "output_type": "execute_result"
    }
   ],
   "source": [
    "coeff14=layerCoeffs('aLIGO measured maps/xITM_05_R2_Figure_finesse.txt',Zernikes(1133,0.15,0.0002668089873623103,10))\n",
    "coeff14"
   ]
  },
  {
   "cell_type": "code",
   "execution_count": 28,
   "metadata": {},
   "outputs": [
    {
     "name": "stderr",
     "output_type": "stream",
     "text": [
      "/opt/anaconda3/lib/python3.7/site-packages/ipykernel_launcher.py:7: RuntimeWarning: divide by zero encountered in true_divide\n",
      "  import sys\n",
      "/opt/anaconda3/lib/python3.7/site-packages/ipykernel_launcher.py:7: RuntimeWarning: invalid value encountered in true_divide\n",
      "  import sys\n"
     ]
    },
    {
     "data": {
      "text/plain": [
       "array([0.        , 0.        , 4.72189406, 2.64984872, 6.88477325,\n",
       "       3.41606407, 7.41277184, 3.77731604, 7.67932514, 3.99741562])"
      ]
     },
     "execution_count": 28,
     "metadata": {},
     "output_type": "execute_result"
    }
   ],
   "source": [
    "coeff15=layerCoeffs('aLIGO measured maps/xITM_11_R2_Figure_finesse.txt',Zernikes(1133,0.15,0.0002668089873623103,10))\n",
    "coeff15"
   ]
  },
  {
   "cell_type": "code",
   "execution_count": 29,
   "metadata": {},
   "outputs": [
    {
     "name": "stderr",
     "output_type": "stream",
     "text": [
      "/opt/anaconda3/lib/python3.7/site-packages/ipykernel_launcher.py:7: RuntimeWarning: divide by zero encountered in true_divide\n",
      "  import sys\n",
      "/opt/anaconda3/lib/python3.7/site-packages/ipykernel_launcher.py:7: RuntimeWarning: invalid value encountered in true_divide\n",
      "  import sys\n"
     ]
    },
    {
     "data": {
      "text/plain": [
       "array([0.        , 0.        , 0.57241227, 1.13432651, 0.98601743,\n",
       "       1.43530455, 1.16614131, 1.62416901, 1.27820446, 1.75060576])"
      ]
     },
     "execution_count": 29,
     "metadata": {},
     "output_type": "execute_result"
    }
   ],
   "source": [
    "coeff16=layerCoeffs('aLIGO measured maps/itm04_s1_finesse.txt',Zernikes(1133,0.15,0.00026675150729715824,10))\n",
    "coeff16"
   ]
  },
  {
   "cell_type": "code",
   "execution_count": 31,
   "metadata": {},
   "outputs": [
    {
     "name": "stderr",
     "output_type": "stream",
     "text": [
      "/opt/anaconda3/lib/python3.7/site-packages/ipykernel_launcher.py:7: RuntimeWarning: divide by zero encountered in true_divide\n",
      "  import sys\n",
      "/opt/anaconda3/lib/python3.7/site-packages/ipykernel_launcher.py:7: RuntimeWarning: invalid value encountered in true_divide\n",
      "  import sys\n"
     ]
    },
    {
     "data": {
      "text/plain": [
       "array([0.        , 0.        , 0.25181065, 0.92148281, 0.95587634,\n",
       "       1.01575246, 0.98557096, 1.0619721 , 0.99351183, 1.08864545])"
      ]
     },
     "execution_count": 31,
     "metadata": {},
     "output_type": "execute_result"
    }
   ],
   "source": [
    "coeff17=layerCoeffs('aLIGO measured maps/xITM_06_R2_Figure_finesse.txt',Zernikes(1133,0.15,0.0002668089873623103,10))\n",
    "coeff17"
   ]
  },
  {
   "cell_type": "code",
   "execution_count": 32,
   "metadata": {},
   "outputs": [
    {
     "name": "stderr",
     "output_type": "stream",
     "text": [
      "/opt/anaconda3/lib/python3.7/site-packages/ipykernel_launcher.py:7: RuntimeWarning: divide by zero encountered in true_divide\n",
      "  import sys\n",
      "/opt/anaconda3/lib/python3.7/site-packages/ipykernel_launcher.py:7: RuntimeWarning: invalid value encountered in true_divide\n",
      "  import sys\n"
     ]
    },
    {
     "data": {
      "text/plain": [
       "array([0.        , 0.        , 0.39528349, 0.7269017 , 0.86217052,\n",
       "       0.85022691, 0.98472151, 0.92681821, 1.05754283, 0.98154609])"
      ]
     },
     "execution_count": 32,
     "metadata": {},
     "output_type": "execute_result"
    }
   ],
   "source": [
    "coeff18=layerCoeffs('aLIGO measured maps/xITM_09_R1_Figure_finesse.txt',Zernikes(1133,0.15,0.0002667510125320405,10))\n",
    "coeff18"
   ]
  },
  {
   "cell_type": "code",
   "execution_count": 33,
   "metadata": {},
   "outputs": [
    {
     "name": "stderr",
     "output_type": "stream",
     "text": [
      "/opt/anaconda3/lib/python3.7/site-packages/ipykernel_launcher.py:7: RuntimeWarning: divide by zero encountered in true_divide\n",
      "  import sys\n",
      "/opt/anaconda3/lib/python3.7/site-packages/ipykernel_launcher.py:7: RuntimeWarning: invalid value encountered in true_divide\n",
      "  import sys\n"
     ]
    },
    {
     "data": {
      "text/plain": [
       "array([0.        , 0.        , 0.24387631, 2.67198784, 0.53458099,\n",
       "       3.20934947, 0.53416862, 3.54031538, 0.53560118, 3.77192861])"
      ]
     },
     "execution_count": 33,
     "metadata": {},
     "output_type": "execute_result"
    }
   ],
   "source": [
    "coeff19=layerCoeffs('aLIGO measured maps/xITM_10_R1_Figure_finesse.txt',Zernikes(1133,0.15,0.0002667510125320405,10))\n",
    "coeff19"
   ]
  },
  {
   "cell_type": "code",
   "execution_count": 34,
   "metadata": {},
   "outputs": [
    {
     "name": "stderr",
     "output_type": "stream",
     "text": [
      "/opt/anaconda3/lib/python3.7/site-packages/ipykernel_launcher.py:7: RuntimeWarning: divide by zero encountered in true_divide\n",
      "  import sys\n",
      "/opt/anaconda3/lib/python3.7/site-packages/ipykernel_launcher.py:7: RuntimeWarning: invalid value encountered in true_divide\n",
      "  import sys\n"
     ]
    },
    {
     "data": {
      "text/plain": [
       "array([ 0.        ,  0.        ,  6.00232723,  3.24153954, 11.35248949,\n",
       "        3.6398263 , 13.38371346,  3.82966677, 14.77982948,  3.9318195 ])"
      ]
     },
     "execution_count": 34,
     "metadata": {},
     "output_type": "execute_result"
    }
   ],
   "source": [
    "coeff20=layerCoeffs('aLIGO measured maps/xITM_10_R2_Figure_finesse.txt',Zernikes(1133,0.15,0.0002668089873623103,10))\n",
    "coeff20"
   ]
  },
  {
   "cell_type": "code",
   "execution_count": 4,
   "metadata": {},
   "outputs": [
    {
     "name": "stderr",
     "output_type": "stream",
     "text": [
      "/opt/anaconda3/lib/python3.7/site-packages/ipykernel_launcher.py:7: RuntimeWarning: divide by zero encountered in true_divide\n",
      "  import sys\n",
      "/opt/anaconda3/lib/python3.7/site-packages/ipykernel_launcher.py:7: RuntimeWarning: invalid value encountered in true_divide\n",
      "  import sys\n"
     ]
    },
    {
     "data": {
      "text/plain": [
       "array([0.        , 0.        , 0.24134709, 0.56735222, 0.56657343,\n",
       "       0.73135515, 0.63527991, 0.85265032, 0.67373944, 0.93413568])"
      ]
     },
     "execution_count": 4,
     "metadata": {},
     "output_type": "execute_result"
    }
   ],
   "source": [
    "coeff21=layerCoeffs('aLIGO measured maps/itm08_s1_finesse.txt',Zernikes(1133,0.15,0.00026675150729715824,10))\n",
    "coeff21"
   ]
  },
  {
   "cell_type": "code",
   "execution_count": 5,
   "metadata": {},
   "outputs": [
    {
     "name": "stderr",
     "output_type": "stream",
     "text": [
      "/opt/anaconda3/lib/python3.7/site-packages/ipykernel_launcher.py:7: RuntimeWarning: divide by zero encountered in true_divide\n",
      "  import sys\n",
      "/opt/anaconda3/lib/python3.7/site-packages/ipykernel_launcher.py:7: RuntimeWarning: invalid value encountered in true_divide\n",
      "  import sys\n"
     ]
    },
    {
     "data": {
      "text/plain": [
       "array([0.        , 0.        , 0.76808349, 1.18982281, 0.97097653,\n",
       "       1.40479173, 1.08079276, 1.51390917, 1.12898421, 1.57590949])"
      ]
     },
     "execution_count": 5,
     "metadata": {},
     "output_type": "execute_result"
    }
   ],
   "source": [
    "coeff22=layerCoeffs('aLIGO measured maps/ETM02-S1_finesse.txt',Zernikes(1131,0.15,0.0002669951063580811,10))\n",
    "coeff22"
   ]
  },
  {
   "cell_type": "code",
   "execution_count": null,
   "metadata": {},
   "outputs": [],
   "source": [
    "layerarray = np.zeros((20,10))\n",
    "for i in range(1,21):\n",
    "    if i<10:\n",
    "        layerarray[i-1]=eval('coeff0' + str(i))\n",
    "    else:\n",
    "        layerarray[i-1]=eval('coeff' + str(i))\n",
    "\n",
    "pd.DataFrame(layerarray).to_pickle('pkl/layerArray_20maps.pkl')\n",
    "layerarray=pd.read_pickle('pkl/layerArray_20maps.pkl').values\n",
    "\n",
    "layerarray22 = np.concatenate((layerarray, coeff21.reshape(1,10), coeff22.reshape(1,10)), axis=0)\n",
    "pd.DataFrame(layerarray22).to_pickle('pkl/layerArray_22maps.pkl')"
   ]
  },
  {
   "cell_type": "code",
   "execution_count": 3,
   "metadata": {},
   "outputs": [
    {
     "data": {
      "text/html": [
       "<div>\n",
       "<style scoped>\n",
       "    .dataframe tbody tr th:only-of-type {\n",
       "        vertical-align: middle;\n",
       "    }\n",
       "\n",
       "    .dataframe tbody tr th {\n",
       "        vertical-align: top;\n",
       "    }\n",
       "\n",
       "    .dataframe thead th {\n",
       "        text-align: right;\n",
       "    }\n",
       "</style>\n",
       "<table border=\"1\" class=\"dataframe\">\n",
       "  <thead>\n",
       "    <tr style=\"text-align: right;\">\n",
       "      <th></th>\n",
       "      <th>Z0</th>\n",
       "      <th>Z1</th>\n",
       "      <th>Z2</th>\n",
       "      <th>Z3</th>\n",
       "      <th>Z4</th>\n",
       "      <th>Z5</th>\n",
       "      <th>Z6</th>\n",
       "      <th>Z7</th>\n",
       "      <th>Z8</th>\n",
       "      <th>Z9</th>\n",
       "    </tr>\n",
       "  </thead>\n",
       "  <tbody>\n",
       "    <tr>\n",
       "      <td>0</td>\n",
       "      <td>0.0</td>\n",
       "      <td>0.0</td>\n",
       "      <td>0.442873</td>\n",
       "      <td>0.290853</td>\n",
       "      <td>0.276246</td>\n",
       "      <td>0.146146</td>\n",
       "      <td>0.095944</td>\n",
       "      <td>0.205337</td>\n",
       "      <td>0.263911</td>\n",
       "      <td>0.085825</td>\n",
       "    </tr>\n",
       "    <tr>\n",
       "      <td>1</td>\n",
       "      <td>0.0</td>\n",
       "      <td>0.0</td>\n",
       "      <td>0.201861</td>\n",
       "      <td>0.374657</td>\n",
       "      <td>0.610436</td>\n",
       "      <td>0.449285</td>\n",
       "      <td>0.693269</td>\n",
       "      <td>0.493233</td>\n",
       "      <td>0.754503</td>\n",
       "      <td>0.520677</td>\n",
       "    </tr>\n",
       "    <tr>\n",
       "      <td>2</td>\n",
       "      <td>0.0</td>\n",
       "      <td>0.0</td>\n",
       "      <td>1.280947</td>\n",
       "      <td>1.130711</td>\n",
       "      <td>13.335530</td>\n",
       "      <td>0.785203</td>\n",
       "      <td>2.332391</td>\n",
       "      <td>1.324960</td>\n",
       "      <td>1.021545</td>\n",
       "      <td>1.161374</td>\n",
       "    </tr>\n",
       "    <tr>\n",
       "      <td>3</td>\n",
       "      <td>0.0</td>\n",
       "      <td>0.0</td>\n",
       "      <td>0.718441</td>\n",
       "      <td>1.297804</td>\n",
       "      <td>2.210698</td>\n",
       "      <td>1.462567</td>\n",
       "      <td>2.493070</td>\n",
       "      <td>1.560838</td>\n",
       "      <td>2.675198</td>\n",
       "      <td>1.620189</td>\n",
       "    </tr>\n",
       "    <tr>\n",
       "      <td>4</td>\n",
       "      <td>0.0</td>\n",
       "      <td>0.0</td>\n",
       "      <td>0.150353</td>\n",
       "      <td>1.243550</td>\n",
       "      <td>0.367220</td>\n",
       "      <td>1.461056</td>\n",
       "      <td>0.452107</td>\n",
       "      <td>1.602879</td>\n",
       "      <td>0.522059</td>\n",
       "      <td>1.700911</td>\n",
       "    </tr>\n",
       "    <tr>\n",
       "      <td>5</td>\n",
       "      <td>0.0</td>\n",
       "      <td>0.0</td>\n",
       "      <td>4.845172</td>\n",
       "      <td>2.188250</td>\n",
       "      <td>5.655174</td>\n",
       "      <td>2.656622</td>\n",
       "      <td>5.940708</td>\n",
       "      <td>2.943679</td>\n",
       "      <td>6.129370</td>\n",
       "      <td>3.146601</td>\n",
       "    </tr>\n",
       "    <tr>\n",
       "      <td>6</td>\n",
       "      <td>0.0</td>\n",
       "      <td>0.0</td>\n",
       "      <td>0.416261</td>\n",
       "      <td>1.199314</td>\n",
       "      <td>0.458471</td>\n",
       "      <td>1.458100</td>\n",
       "      <td>0.492557</td>\n",
       "      <td>1.619866</td>\n",
       "      <td>0.518740</td>\n",
       "      <td>1.730746</td>\n",
       "    </tr>\n",
       "    <tr>\n",
       "      <td>7</td>\n",
       "      <td>0.0</td>\n",
       "      <td>0.0</td>\n",
       "      <td>0.395148</td>\n",
       "      <td>1.155706</td>\n",
       "      <td>0.494070</td>\n",
       "      <td>1.317035</td>\n",
       "      <td>0.549239</td>\n",
       "      <td>1.419942</td>\n",
       "      <td>0.600105</td>\n",
       "      <td>1.494494</td>\n",
       "    </tr>\n",
       "    <tr>\n",
       "      <td>8</td>\n",
       "      <td>0.0</td>\n",
       "      <td>0.0</td>\n",
       "      <td>0.054511</td>\n",
       "      <td>1.340376</td>\n",
       "      <td>0.209836</td>\n",
       "      <td>1.614581</td>\n",
       "      <td>0.336922</td>\n",
       "      <td>1.788153</td>\n",
       "      <td>0.436196</td>\n",
       "      <td>1.907318</td>\n",
       "    </tr>\n",
       "    <tr>\n",
       "      <td>9</td>\n",
       "      <td>0.0</td>\n",
       "      <td>0.0</td>\n",
       "      <td>1.328693</td>\n",
       "      <td>3.182729</td>\n",
       "      <td>5.861014</td>\n",
       "      <td>3.935846</td>\n",
       "      <td>6.719060</td>\n",
       "      <td>4.393593</td>\n",
       "      <td>7.284480</td>\n",
       "      <td>4.707033</td>\n",
       "    </tr>\n",
       "    <tr>\n",
       "      <td>10</td>\n",
       "      <td>0.0</td>\n",
       "      <td>0.0</td>\n",
       "      <td>4.721894</td>\n",
       "      <td>2.649849</td>\n",
       "      <td>6.884773</td>\n",
       "      <td>3.416064</td>\n",
       "      <td>7.412772</td>\n",
       "      <td>3.777316</td>\n",
       "      <td>7.679325</td>\n",
       "      <td>3.997416</td>\n",
       "    </tr>\n",
       "    <tr>\n",
       "      <td>11</td>\n",
       "      <td>0.0</td>\n",
       "      <td>0.0</td>\n",
       "      <td>0.572412</td>\n",
       "      <td>1.134327</td>\n",
       "      <td>0.986017</td>\n",
       "      <td>1.435305</td>\n",
       "      <td>1.166141</td>\n",
       "      <td>1.624169</td>\n",
       "      <td>1.278204</td>\n",
       "      <td>1.750606</td>\n",
       "    </tr>\n",
       "    <tr>\n",
       "      <td>12</td>\n",
       "      <td>0.0</td>\n",
       "      <td>0.0</td>\n",
       "      <td>0.251811</td>\n",
       "      <td>0.921483</td>\n",
       "      <td>0.955876</td>\n",
       "      <td>1.015752</td>\n",
       "      <td>0.985571</td>\n",
       "      <td>1.061972</td>\n",
       "      <td>0.993512</td>\n",
       "      <td>1.088645</td>\n",
       "    </tr>\n",
       "    <tr>\n",
       "      <td>13</td>\n",
       "      <td>0.0</td>\n",
       "      <td>0.0</td>\n",
       "      <td>0.395283</td>\n",
       "      <td>0.726902</td>\n",
       "      <td>0.862171</td>\n",
       "      <td>0.850227</td>\n",
       "      <td>0.984722</td>\n",
       "      <td>0.926818</td>\n",
       "      <td>1.057543</td>\n",
       "      <td>0.981546</td>\n",
       "    </tr>\n",
       "    <tr>\n",
       "      <td>14</td>\n",
       "      <td>0.0</td>\n",
       "      <td>0.0</td>\n",
       "      <td>0.243876</td>\n",
       "      <td>2.671988</td>\n",
       "      <td>0.534581</td>\n",
       "      <td>3.209349</td>\n",
       "      <td>0.534169</td>\n",
       "      <td>3.540315</td>\n",
       "      <td>0.535601</td>\n",
       "      <td>3.771929</td>\n",
       "    </tr>\n",
       "    <tr>\n",
       "      <td>15</td>\n",
       "      <td>0.0</td>\n",
       "      <td>0.0</td>\n",
       "      <td>0.241347</td>\n",
       "      <td>0.567352</td>\n",
       "      <td>0.566573</td>\n",
       "      <td>0.731355</td>\n",
       "      <td>0.635280</td>\n",
       "      <td>0.852650</td>\n",
       "      <td>0.673739</td>\n",
       "      <td>0.934136</td>\n",
       "    </tr>\n",
       "    <tr>\n",
       "      <td>16</td>\n",
       "      <td>0.0</td>\n",
       "      <td>0.0</td>\n",
       "      <td>0.768083</td>\n",
       "      <td>1.189823</td>\n",
       "      <td>0.970977</td>\n",
       "      <td>1.404792</td>\n",
       "      <td>1.080793</td>\n",
       "      <td>1.513909</td>\n",
       "      <td>1.128984</td>\n",
       "      <td>1.575909</td>\n",
       "    </tr>\n",
       "  </tbody>\n",
       "</table>\n",
       "</div>"
      ],
      "text/plain": [
       "     Z0   Z1        Z2        Z3         Z4        Z5        Z6        Z7  \\\n",
       "0   0.0  0.0  0.442873  0.290853   0.276246  0.146146  0.095944  0.205337   \n",
       "1   0.0  0.0  0.201861  0.374657   0.610436  0.449285  0.693269  0.493233   \n",
       "2   0.0  0.0  1.280947  1.130711  13.335530  0.785203  2.332391  1.324960   \n",
       "3   0.0  0.0  0.718441  1.297804   2.210698  1.462567  2.493070  1.560838   \n",
       "4   0.0  0.0  0.150353  1.243550   0.367220  1.461056  0.452107  1.602879   \n",
       "5   0.0  0.0  4.845172  2.188250   5.655174  2.656622  5.940708  2.943679   \n",
       "6   0.0  0.0  0.416261  1.199314   0.458471  1.458100  0.492557  1.619866   \n",
       "7   0.0  0.0  0.395148  1.155706   0.494070  1.317035  0.549239  1.419942   \n",
       "8   0.0  0.0  0.054511  1.340376   0.209836  1.614581  0.336922  1.788153   \n",
       "9   0.0  0.0  1.328693  3.182729   5.861014  3.935846  6.719060  4.393593   \n",
       "10  0.0  0.0  4.721894  2.649849   6.884773  3.416064  7.412772  3.777316   \n",
       "11  0.0  0.0  0.572412  1.134327   0.986017  1.435305  1.166141  1.624169   \n",
       "12  0.0  0.0  0.251811  0.921483   0.955876  1.015752  0.985571  1.061972   \n",
       "13  0.0  0.0  0.395283  0.726902   0.862171  0.850227  0.984722  0.926818   \n",
       "14  0.0  0.0  0.243876  2.671988   0.534581  3.209349  0.534169  3.540315   \n",
       "15  0.0  0.0  0.241347  0.567352   0.566573  0.731355  0.635280  0.852650   \n",
       "16  0.0  0.0  0.768083  1.189823   0.970977  1.404792  1.080793  1.513909   \n",
       "\n",
       "          Z8        Z9  \n",
       "0   0.263911  0.085825  \n",
       "1   0.754503  0.520677  \n",
       "2   1.021545  1.161374  \n",
       "3   2.675198  1.620189  \n",
       "4   0.522059  1.700911  \n",
       "5   6.129370  3.146601  \n",
       "6   0.518740  1.730746  \n",
       "7   0.600105  1.494494  \n",
       "8   0.436196  1.907318  \n",
       "9   7.284480  4.707033  \n",
       "10  7.679325  3.997416  \n",
       "11  1.278204  1.750606  \n",
       "12  0.993512  1.088645  \n",
       "13  1.057543  0.981546  \n",
       "14  0.535601  3.771929  \n",
       "15  0.673739  0.934136  \n",
       "16  1.128984  1.575909  "
      ]
     },
     "execution_count": 3,
     "metadata": {},
     "output_type": "execute_result"
    }
   ],
   "source": [
    "layerDF"
   ]
  },
  {
   "cell_type": "code",
   "execution_count": 2,
   "metadata": {},
   "outputs": [
    {
     "data": {
      "text/html": [
       "<div>\n",
       "<style scoped>\n",
       "    .dataframe tbody tr th:only-of-type {\n",
       "        vertical-align: middle;\n",
       "    }\n",
       "\n",
       "    .dataframe tbody tr th {\n",
       "        vertical-align: top;\n",
       "    }\n",
       "\n",
       "    .dataframe thead th {\n",
       "        text-align: right;\n",
       "    }\n",
       "</style>\n",
       "<table border=\"1\" class=\"dataframe\">\n",
       "  <thead>\n",
       "    <tr style=\"text-align: right;\">\n",
       "      <th></th>\n",
       "      <th>Z0</th>\n",
       "      <th>Z1</th>\n",
       "      <th>Z2</th>\n",
       "      <th>Z3</th>\n",
       "      <th>Z4</th>\n",
       "      <th>Z5</th>\n",
       "      <th>Z6</th>\n",
       "      <th>Z7</th>\n",
       "      <th>Z8</th>\n",
       "      <th>Z9</th>\n",
       "    </tr>\n",
       "  </thead>\n",
       "  <tbody>\n",
       "    <tr>\n",
       "      <td>count</td>\n",
       "      <td>17.0</td>\n",
       "      <td>17.0</td>\n",
       "      <td>17.000000</td>\n",
       "      <td>17.000000</td>\n",
       "      <td>17.000000</td>\n",
       "      <td>17.000000</td>\n",
       "      <td>17.000000</td>\n",
       "      <td>17.000000</td>\n",
       "      <td>17.000000</td>\n",
       "      <td>17.000000</td>\n",
       "    </tr>\n",
       "    <tr>\n",
       "      <td>mean</td>\n",
       "      <td>0.0</td>\n",
       "      <td>0.0</td>\n",
       "      <td>1.001704</td>\n",
       "      <td>1.368569</td>\n",
       "      <td>2.425863</td>\n",
       "      <td>1.608781</td>\n",
       "      <td>1.935571</td>\n",
       "      <td>1.802919</td>\n",
       "      <td>1.973707</td>\n",
       "      <td>1.892668</td>\n",
       "    </tr>\n",
       "    <tr>\n",
       "      <td>std</td>\n",
       "      <td>0.0</td>\n",
       "      <td>0.0</td>\n",
       "      <td>1.468061</td>\n",
       "      <td>0.827093</td>\n",
       "      <td>3.550311</td>\n",
       "      <td>1.073051</td>\n",
       "      <td>2.369902</td>\n",
       "      <td>1.173663</td>\n",
       "      <td>2.488309</td>\n",
       "      <td>1.273487</td>\n",
       "    </tr>\n",
       "    <tr>\n",
       "      <td>min</td>\n",
       "      <td>0.0</td>\n",
       "      <td>0.0</td>\n",
       "      <td>0.054511</td>\n",
       "      <td>0.290853</td>\n",
       "      <td>0.209836</td>\n",
       "      <td>0.146146</td>\n",
       "      <td>0.095944</td>\n",
       "      <td>0.205337</td>\n",
       "      <td>0.263911</td>\n",
       "      <td>0.085825</td>\n",
       "    </tr>\n",
       "    <tr>\n",
       "      <td>25%</td>\n",
       "      <td>0.0</td>\n",
       "      <td>0.0</td>\n",
       "      <td>0.243876</td>\n",
       "      <td>0.921483</td>\n",
       "      <td>0.494070</td>\n",
       "      <td>0.850227</td>\n",
       "      <td>0.534169</td>\n",
       "      <td>1.061972</td>\n",
       "      <td>0.535601</td>\n",
       "      <td>1.088645</td>\n",
       "    </tr>\n",
       "    <tr>\n",
       "      <td>50%</td>\n",
       "      <td>0.0</td>\n",
       "      <td>0.0</td>\n",
       "      <td>0.416261</td>\n",
       "      <td>1.189823</td>\n",
       "      <td>0.862171</td>\n",
       "      <td>1.435305</td>\n",
       "      <td>0.984722</td>\n",
       "      <td>1.560838</td>\n",
       "      <td>0.993512</td>\n",
       "      <td>1.620189</td>\n",
       "    </tr>\n",
       "    <tr>\n",
       "      <td>75%</td>\n",
       "      <td>0.0</td>\n",
       "      <td>0.0</td>\n",
       "      <td>0.768083</td>\n",
       "      <td>1.340376</td>\n",
       "      <td>2.210698</td>\n",
       "      <td>1.614581</td>\n",
       "      <td>2.332391</td>\n",
       "      <td>1.788153</td>\n",
       "      <td>1.278204</td>\n",
       "      <td>1.907318</td>\n",
       "    </tr>\n",
       "    <tr>\n",
       "      <td>max</td>\n",
       "      <td>0.0</td>\n",
       "      <td>0.0</td>\n",
       "      <td>4.845172</td>\n",
       "      <td>3.182729</td>\n",
       "      <td>13.335530</td>\n",
       "      <td>3.935846</td>\n",
       "      <td>7.412772</td>\n",
       "      <td>4.393593</td>\n",
       "      <td>7.679325</td>\n",
       "      <td>4.707033</td>\n",
       "    </tr>\n",
       "  </tbody>\n",
       "</table>\n",
       "</div>"
      ],
      "text/plain": [
       "         Z0    Z1         Z2         Z3         Z4         Z5         Z6  \\\n",
       "count  17.0  17.0  17.000000  17.000000  17.000000  17.000000  17.000000   \n",
       "mean    0.0   0.0   1.001704   1.368569   2.425863   1.608781   1.935571   \n",
       "std     0.0   0.0   1.468061   0.827093   3.550311   1.073051   2.369902   \n",
       "min     0.0   0.0   0.054511   0.290853   0.209836   0.146146   0.095944   \n",
       "25%     0.0   0.0   0.243876   0.921483   0.494070   0.850227   0.534169   \n",
       "50%     0.0   0.0   0.416261   1.189823   0.862171   1.435305   0.984722   \n",
       "75%     0.0   0.0   0.768083   1.340376   2.210698   1.614581   2.332391   \n",
       "max     0.0   0.0   4.845172   3.182729  13.335530   3.935846   7.412772   \n",
       "\n",
       "              Z7         Z8         Z9  \n",
       "count  17.000000  17.000000  17.000000  \n",
       "mean    1.802919   1.973707   1.892668  \n",
       "std     1.173663   2.488309   1.273487  \n",
       "min     0.205337   0.263911   0.085825  \n",
       "25%     1.061972   0.535601   1.088645  \n",
       "50%     1.560838   0.993512   1.620189  \n",
       "75%     1.788153   1.278204   1.907318  \n",
       "max     4.393593   7.679325   4.707033  "
      ]
     },
     "execution_count": 2,
     "metadata": {},
     "output_type": "execute_result"
    }
   ],
   "source": [
    "# find the statistical distributions of each layers\n",
    "# indexes=list(range(20))\n",
    "# indexes.remove(8)\n",
    "# indexes.remove(10)\n",
    "layerarray22=pd.read_pickle('pkl/layerArray_22maps.pkl').values\n",
    "layerDF=pd.DataFrame(np.delete(layerarray22, [7,8,10,13,19], 0), columns=[f'Z{i}' for i in range(10)])\n",
    "stats=layerDF.describe()\n",
    "stats"
   ]
  },
  {
   "cell_type": "code",
   "execution_count": 4,
   "metadata": {},
   "outputs": [],
   "source": [
    "# use the above statistics to generate the corresponding gaussian distribution\n",
    "mu, sigma = stats.loc['mean'], stats.loc['std']\n",
    "coeff_random=np.zeros((50,10))\n",
    "for i in range(50):\n",
    "    for j in range(10):\n",
    "        coeff_random[i][j] = np.random.normal(mu[j], sigma[j], 1)"
   ]
  },
  {
   "cell_type": "code",
   "execution_count": 5,
   "metadata": {},
   "outputs": [
    {
     "data": {
      "text/plain": [
       "array([[0.00000000e+00, 0.00000000e+00, 2.14355525e+00, 1.25403439e+00,\n",
       "        6.51080701e+00, 9.38473337e-01, 0.00000000e+00, 1.36933666e+00,\n",
       "        1.61377746e+00, 3.78581112e+00],\n",
       "       [0.00000000e+00, 0.00000000e+00, 1.27363035e+00, 6.71970278e-01,\n",
       "        3.23789214e+00, 2.51515299e-01, 0.00000000e+00, 1.58409656e+00,\n",
       "        4.18881397e+00, 2.13154997e+00],\n",
       "       [0.00000000e+00, 0.00000000e+00, 0.00000000e+00, 1.46645751e+00,\n",
       "        1.82445969e+00, 1.68101794e+00, 3.37273932e-01, 0.00000000e+00,\n",
       "        4.94765949e+00, 9.48285875e-01],\n",
       "       [0.00000000e+00, 0.00000000e+00, 1.09818052e+00, 2.21523733e+00,\n",
       "        3.62895119e+00, 1.60775128e+00, 0.00000000e+00, 9.25579105e-01,\n",
       "        6.48557589e+00, 4.70350127e+00],\n",
       "       [0.00000000e+00, 0.00000000e+00, 0.00000000e+00, 8.45380470e-01,\n",
       "        2.35307025e+00, 2.92766164e+00, 8.13848547e+00, 2.02471656e+00,\n",
       "        4.38580485e+00, 1.63579812e+00],\n",
       "       [0.00000000e+00, 0.00000000e+00, 0.00000000e+00, 1.89987795e+00,\n",
       "        1.68639519e+00, 2.16309333e+00, 2.40204582e+00, 1.66228315e+00,\n",
       "        5.44105271e+00, 1.40179841e+00],\n",
       "       [0.00000000e+00, 0.00000000e+00, 2.79672095e-01, 1.42119516e+00,\n",
       "        8.66284588e+00, 2.53442965e+00, 3.62244412e+00, 1.67804804e+00,\n",
       "        2.71867316e+00, 1.31878686e+00],\n",
       "       [0.00000000e+00, 0.00000000e+00, 1.25023494e+00, 1.09039923e+00,\n",
       "        3.63540073e+00, 1.23834444e+00, 3.37939935e+00, 2.50633366e+00,\n",
       "        6.40504405e+00, 2.34245992e+00],\n",
       "       [0.00000000e+00, 0.00000000e+00, 1.35189305e-01, 1.18790290e+00,\n",
       "        6.62996404e+00, 2.62315191e+00, 1.09472463e+00, 1.59289852e-01,\n",
       "        4.55280288e+00, 4.51738851e-01],\n",
       "       [0.00000000e+00, 0.00000000e+00, 8.17026083e-01, 1.77699900e+00,\n",
       "        2.33860200e-02, 2.20723615e+00, 0.00000000e+00, 1.90917684e+00,\n",
       "        0.00000000e+00, 5.35360198e+00],\n",
       "       [0.00000000e+00, 0.00000000e+00, 7.42554510e-01, 0.00000000e+00,\n",
       "        5.65243118e+00, 2.47147110e+00, 1.75696837e-01, 2.94782546e+00,\n",
       "        3.29316674e+00, 1.35954237e+00],\n",
       "       [0.00000000e+00, 0.00000000e+00, 1.86063562e+00, 1.88179067e+00,\n",
       "        1.51744343e+00, 2.55339529e+00, 8.13398519e-01, 2.68996851e+00,\n",
       "        2.45157191e+00, 2.25925673e+00],\n",
       "       [0.00000000e+00, 0.00000000e+00, 1.68510551e+00, 2.41490465e+00,\n",
       "        8.85954891e-01, 2.51913605e+00, 4.47206745e+00, 8.63365704e-01,\n",
       "        0.00000000e+00, 9.51956065e-01],\n",
       "       [0.00000000e+00, 0.00000000e+00, 3.99551919e-01, 1.19455012e+00,\n",
       "        5.94519654e+00, 2.05176125e-01, 9.28806421e-01, 4.97433470e-01,\n",
       "        0.00000000e+00, 2.82460436e+00],\n",
       "       [0.00000000e+00, 0.00000000e+00, 2.47666265e+00, 3.82605134e-01,\n",
       "        3.37288019e+00, 2.48266885e+00, 0.00000000e+00, 1.60408820e+00,\n",
       "        2.12978614e+00, 2.72828009e+00],\n",
       "       [0.00000000e+00, 0.00000000e+00, 0.00000000e+00, 1.94367787e+00,\n",
       "        6.40251581e+00, 1.81477638e+00, 1.92498472e+00, 1.64668004e+00,\n",
       "        4.14939350e+00, 4.28451250e+00],\n",
       "       [0.00000000e+00, 0.00000000e+00, 1.54722287e+00, 1.72514830e+00,\n",
       "        3.42276100e+00, 6.69540977e-01, 5.61872511e-01, 3.04057217e+00,\n",
       "        1.69923522e-01, 5.69218457e-01],\n",
       "       [0.00000000e+00, 0.00000000e+00, 7.54139556e-01, 1.66203323e+00,\n",
       "        2.68234007e+00, 2.91020571e-02, 1.43625411e+00, 1.40045208e+00,\n",
       "        4.67552681e+00, 2.95738771e+00],\n",
       "       [0.00000000e+00, 0.00000000e+00, 1.17693604e+00, 1.96564920e+00,\n",
       "        4.34157291e+00, 1.85892094e+00, 1.19441279e+00, 2.43332880e+00,\n",
       "        2.65761346e+00, 1.41376228e+00],\n",
       "       [0.00000000e+00, 0.00000000e+00, 9.26940928e-01, 7.93186096e-01,\n",
       "        0.00000000e+00, 3.12145678e-01, 2.20433334e+00, 1.46083856e+00,\n",
       "        2.78819978e+00, 5.53023651e+00],\n",
       "       [0.00000000e+00, 0.00000000e+00, 9.48431498e-01, 3.27698286e+00,\n",
       "        0.00000000e+00, 7.37240032e-01, 0.00000000e+00, 1.23489977e+00,\n",
       "        5.62334926e-01, 1.07710564e+00],\n",
       "       [0.00000000e+00, 0.00000000e+00, 0.00000000e+00, 1.52056332e+00,\n",
       "        7.61653900e+00, 3.88074782e-01, 3.61992471e+00, 5.17018573e-01,\n",
       "        2.69484632e+00, 2.60717947e+00],\n",
       "       [0.00000000e+00, 0.00000000e+00, 1.11899746e+00, 2.83386272e+00,\n",
       "        0.00000000e+00, 1.97820786e+00, 4.08761814e+00, 3.79441207e-01,\n",
       "        4.86098853e+00, 1.51403699e+00],\n",
       "       [0.00000000e+00, 0.00000000e+00, 8.52382723e-01, 2.22877622e+00,\n",
       "        3.88088917e+00, 1.36825000e+00, 1.02076692e+00, 2.97387138e+00,\n",
       "        2.04810295e+00, 4.50990959e+00],\n",
       "       [0.00000000e+00, 0.00000000e+00, 1.50281397e+00, 7.02923640e-01,\n",
       "        7.38426491e+00, 1.34851988e+00, 7.16217382e-01, 0.00000000e+00,\n",
       "        2.55524074e+00, 5.04856267e+00],\n",
       "       [0.00000000e+00, 0.00000000e+00, 0.00000000e+00, 2.36006402e+00,\n",
       "        7.68041960e+00, 1.10033132e+00, 2.08149159e+00, 4.04852578e+00,\n",
       "        2.03234223e+00, 2.63134737e+00],\n",
       "       [0.00000000e+00, 0.00000000e+00, 2.69960659e+00, 8.78520481e-01,\n",
       "        3.03026146e+00, 3.64648740e+00, 0.00000000e+00, 2.57057549e-01,\n",
       "        5.34982452e+00, 1.12931125e+00],\n",
       "       [0.00000000e+00, 0.00000000e+00, 2.82182584e+00, 9.84767040e-01,\n",
       "        2.01357611e+00, 2.52222925e-01, 1.76376067e+00, 4.15800667e+00,\n",
       "        0.00000000e+00, 1.55523817e+00],\n",
       "       [0.00000000e+00, 0.00000000e+00, 1.46881585e+00, 2.18720740e+00,\n",
       "        1.39080056e+00, 2.09404951e-01, 1.28667058e+00, 2.87954627e+00,\n",
       "        3.81687727e-01, 1.03720338e+00],\n",
       "       [0.00000000e+00, 0.00000000e+00, 2.72766986e-01, 0.00000000e+00,\n",
       "        2.77831975e+00, 2.32838133e+00, 0.00000000e+00, 1.57602734e+00,\n",
       "        1.37171706e+00, 3.15779132e-01],\n",
       "       [0.00000000e+00, 0.00000000e+00, 0.00000000e+00, 1.31402479e+00,\n",
       "        1.53971768e+00, 1.89568401e+00, 1.17982815e+00, 1.88793263e+00,\n",
       "        4.35234681e-01, 1.80687163e+00],\n",
       "       [0.00000000e+00, 0.00000000e+00, 1.59825443e-01, 2.39995692e+00,\n",
       "        5.47354381e+00, 2.47703918e+00, 0.00000000e+00, 4.12887521e+00,\n",
       "        4.64889028e+00, 2.09214362e+00],\n",
       "       [0.00000000e+00, 0.00000000e+00, 0.00000000e+00, 1.13532392e+00,\n",
       "        3.74859555e+00, 1.18553630e+00, 8.24382181e-01, 1.40888706e+00,\n",
       "        2.96309444e-03, 3.45685179e+00],\n",
       "       [0.00000000e+00, 0.00000000e+00, 1.56439438e+00, 2.14580551e+00,\n",
       "        5.35864579e+00, 9.42140165e-01, 0.00000000e+00, 3.49715200e+00,\n",
       "        5.73815033e+00, 0.00000000e+00],\n",
       "       [0.00000000e+00, 0.00000000e+00, 2.94146109e-01, 1.30560407e+00,\n",
       "        0.00000000e+00, 3.44245510e+00, 0.00000000e+00, 1.26311130e+00,\n",
       "        3.56526478e+00, 4.71972740e+00],\n",
       "       [0.00000000e+00, 0.00000000e+00, 2.30800265e+00, 1.99336534e+00,\n",
       "        0.00000000e+00, 1.86791698e+00, 3.94407950e+00, 1.40171133e+00,\n",
       "        0.00000000e+00, 2.19756865e+00],\n",
       "       [0.00000000e+00, 0.00000000e+00, 1.40291057e-01, 1.90021694e+00,\n",
       "        6.42128651e-01, 1.68644819e+00, 1.88183726e+00, 2.29901451e+00,\n",
       "        0.00000000e+00, 1.92507497e+00],\n",
       "       [0.00000000e+00, 0.00000000e+00, 0.00000000e+00, 1.99713284e+00,\n",
       "        0.00000000e+00, 1.47408506e+00, 2.31885543e+00, 2.28924914e+00,\n",
       "        5.91958809e-01, 2.63831046e+00],\n",
       "       [0.00000000e+00, 0.00000000e+00, 1.42923479e+00, 1.18927030e+00,\n",
       "        7.07027662e+00, 4.35367836e-01, 4.83443360e+00, 0.00000000e+00,\n",
       "        1.87750849e+00, 2.29627885e+00],\n",
       "       [0.00000000e+00, 0.00000000e+00, 1.04588888e-01, 1.69562150e+00,\n",
       "        6.39015620e+00, 0.00000000e+00, 0.00000000e+00, 2.47017709e+00,\n",
       "        0.00000000e+00, 7.41944414e-01],\n",
       "       [0.00000000e+00, 0.00000000e+00, 0.00000000e+00, 1.42378197e+00,\n",
       "        7.60529946e+00, 1.33571613e-01, 0.00000000e+00, 1.75237365e+00,\n",
       "        2.49733553e+00, 0.00000000e+00],\n",
       "       [0.00000000e+00, 0.00000000e+00, 1.15444633e+00, 8.57219549e-01,\n",
       "        5.83225297e+00, 1.86374001e+00, 0.00000000e+00, 1.43595819e+00,\n",
       "        9.90645326e-01, 3.57567112e+00],\n",
       "       [0.00000000e+00, 0.00000000e+00, 3.16679626e+00, 2.12599258e+00,\n",
       "        1.55845371e+00, 2.79260856e+00, 1.75619627e+00, 1.91901308e+00,\n",
       "        2.30380851e+00, 8.93717184e-01],\n",
       "       [0.00000000e+00, 0.00000000e+00, 2.58355932e-01, 1.97180608e+00,\n",
       "        0.00000000e+00, 4.07966041e+00, 2.13440112e+00, 4.53965120e-02,\n",
       "        5.90417415e+00, 2.27572769e+00],\n",
       "       [0.00000000e+00, 0.00000000e+00, 2.23648627e+00, 2.57909152e+00,\n",
       "        0.00000000e+00, 0.00000000e+00, 9.49124520e-01, 3.81157532e+00,\n",
       "        4.96566075e+00, 2.89957281e+00],\n",
       "       [0.00000000e+00, 0.00000000e+00, 0.00000000e+00, 1.31480007e+00,\n",
       "        1.83992127e+00, 2.15103003e+00, 2.20293753e+00, 1.16795367e-01,\n",
       "        3.20471108e+00, 1.14461292e+00],\n",
       "       [0.00000000e+00, 0.00000000e+00, 0.00000000e+00, 1.88280886e+00,\n",
       "        8.11172194e+00, 2.24044193e+00, 3.52244225e+00, 1.54866523e+00,\n",
       "        5.70344017e-01, 2.28533834e+00],\n",
       "       [0.00000000e+00, 0.00000000e+00, 0.00000000e+00, 1.67310640e+00,\n",
       "        0.00000000e+00, 1.85642606e+00, 1.10248754e+00, 8.56027768e-01,\n",
       "        2.28335308e+00, 1.28449986e+00],\n",
       "       [0.00000000e+00, 0.00000000e+00, 0.00000000e+00, 1.19467817e+00,\n",
       "        2.13020613e+00, 9.84239803e-01, 4.98610970e+00, 2.01315610e+00,\n",
       "        0.00000000e+00, 1.59875799e+00],\n",
       "       [0.00000000e+00, 0.00000000e+00, 9.55446205e-01, 2.28318712e+00,\n",
       "        0.00000000e+00, 3.14129805e+00, 6.10810426e+00, 1.31667404e+00,\n",
       "        1.77991006e+00, 1.04884696e+00]])"
      ]
     },
     "execution_count": 5,
     "metadata": {},
     "output_type": "execute_result"
    }
   ],
   "source": [
    "coeff_random[coeff_random<0] = 0\n",
    "coeff_random"
   ]
  },
  {
   "cell_type": "code",
   "execution_count": 6,
   "metadata": {},
   "outputs": [],
   "source": [
    "pd.DataFrame(coeff_random).to_pickle('pkl/random_Coeffs.pkl')"
   ]
  },
  {
   "cell_type": "code",
   "execution_count": null,
   "metadata": {},
   "outputs": [],
   "source": []
  }
 ],
 "metadata": {
  "kernelspec": {
   "display_name": "Python 3",
   "language": "python",
   "name": "python3"
  },
  "language_info": {
   "codemirror_mode": {
    "name": "ipython",
    "version": 3
   },
   "file_extension": ".py",
   "mimetype": "text/x-python",
   "name": "python",
   "nbconvert_exporter": "python",
   "pygments_lexer": "ipython3",
   "version": "3.7.4"
  }
 },
 "nbformat": 4,
 "nbformat_minor": 2
}
